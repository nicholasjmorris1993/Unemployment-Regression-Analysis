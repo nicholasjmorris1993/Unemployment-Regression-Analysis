{
 "cells": [
  {
   "cell_type": "code",
   "execution_count": 1,
   "id": "abb00f0e-b45a-475a-ab3f-1647e3f87002",
   "metadata": {},
   "outputs": [
    {
     "name": "stdout",
     "output_type": "stream",
     "text": [
      "Requirement already satisfied: plotly in /opt/conda/envs/sagemaker-distribution/lib/python3.8/site-packages (5.18.0)\n",
      "Requirement already satisfied: tenacity>=6.2.0 in /opt/conda/envs/sagemaker-distribution/lib/python3.8/site-packages (from plotly) (8.2.3)\n",
      "Requirement already satisfied: packaging in /opt/conda/envs/sagemaker-distribution/lib/python3.8/site-packages (from plotly) (23.1)\n",
      "Note: you may need to restart the kernel to use updated packages.\n",
      "Requirement already satisfied: py-cpuinfo in /opt/conda/envs/sagemaker-distribution/lib/python3.8/site-packages (9.0.0)\n",
      "Note: you may need to restart the kernel to use updated packages.\n",
      "Requirement already satisfied: pandas-datareader in /opt/conda/envs/sagemaker-distribution/lib/python3.8/site-packages (0.10.0)\n",
      "Requirement already satisfied: lxml in /opt/conda/envs/sagemaker-distribution/lib/python3.8/site-packages (from pandas-datareader) (4.9.3)\n",
      "Requirement already satisfied: pandas>=0.23 in /opt/conda/envs/sagemaker-distribution/lib/python3.8/site-packages (from pandas-datareader) (2.0.3)\n",
      "Requirement already satisfied: requests>=2.19.0 in /opt/conda/envs/sagemaker-distribution/lib/python3.8/site-packages (from pandas-datareader) (2.31.0)\n",
      "Requirement already satisfied: python-dateutil>=2.8.2 in /opt/conda/envs/sagemaker-distribution/lib/python3.8/site-packages (from pandas>=0.23->pandas-datareader) (2.8.2)\n",
      "Requirement already satisfied: pytz>=2020.1 in /opt/conda/envs/sagemaker-distribution/lib/python3.8/site-packages (from pandas>=0.23->pandas-datareader) (2023.3)\n",
      "Requirement already satisfied: tzdata>=2022.1 in /opt/conda/envs/sagemaker-distribution/lib/python3.8/site-packages (from pandas>=0.23->pandas-datareader) (2023.3)\n",
      "Requirement already satisfied: numpy>=1.20.3 in /opt/conda/envs/sagemaker-distribution/lib/python3.8/site-packages (from pandas>=0.23->pandas-datareader) (1.24.4)\n",
      "Requirement already satisfied: charset-normalizer<4,>=2 in /opt/conda/envs/sagemaker-distribution/lib/python3.8/site-packages (from requests>=2.19.0->pandas-datareader) (3.2.0)\n",
      "Requirement already satisfied: idna<4,>=2.5 in /opt/conda/envs/sagemaker-distribution/lib/python3.8/site-packages (from requests>=2.19.0->pandas-datareader) (3.4)\n",
      "Requirement already satisfied: urllib3<3,>=1.21.1 in /opt/conda/envs/sagemaker-distribution/lib/python3.8/site-packages (from requests>=2.19.0->pandas-datareader) (1.26.15)\n",
      "Requirement already satisfied: certifi>=2017.4.17 in /opt/conda/envs/sagemaker-distribution/lib/python3.8/site-packages (from requests>=2.19.0->pandas-datareader) (2023.7.22)\n",
      "Requirement already satisfied: six>=1.5 in /opt/conda/envs/sagemaker-distribution/lib/python3.8/site-packages (from python-dateutil>=2.8.2->pandas>=0.23->pandas-datareader) (1.16.0)\n",
      "Note: you may need to restart the kernel to use updated packages.\n",
      "Requirement already satisfied: nltk in /opt/conda/envs/sagemaker-distribution/lib/python3.8/site-packages (3.8.1)\n",
      "Requirement already satisfied: click in /opt/conda/envs/sagemaker-distribution/lib/python3.8/site-packages (from nltk) (8.1.6)\n",
      "Requirement already satisfied: joblib in /opt/conda/envs/sagemaker-distribution/lib/python3.8/site-packages (from nltk) (1.3.0)\n",
      "Requirement already satisfied: regex>=2021.8.3 in /opt/conda/envs/sagemaker-distribution/lib/python3.8/site-packages (from nltk) (2023.10.3)\n",
      "Requirement already satisfied: tqdm in /opt/conda/envs/sagemaker-distribution/lib/python3.8/site-packages (from nltk) (4.65.0)\n",
      "Note: you may need to restart the kernel to use updated packages.\n"
     ]
    }
   ],
   "source": [
    "# install missing packages\n",
    "%pip install plotly\n",
    "%pip install py-cpuinfo\n",
    "%pip install pandas-datareader\n",
    "%pip install nltk"
   ]
  },
  {
   "cell_type": "code",
   "execution_count": 2,
   "id": "28211ea4-4ff7-48eb-a395-53442492a061",
   "metadata": {
    "tags": []
   },
   "outputs": [
    {
     "name": "stdout",
     "output_type": "stream",
     "text": [
      "Total RAM: 15.47 GB\n",
      "Available RAM: 10.12 GB\n",
      "Used RAM: 5.08 GB\n",
      "Percentage Usage Of RAM: 34.6%\n",
      "CPU Cores: 4\n",
      "CPU Speed: 2.5000 GHz\n",
      "Total Disk: 24.99 GB\n",
      "Available Disk: 13.17 GB\n",
      "Used Disk: 11.82 GB\n",
      "Percentage Usage Of Disk: 47.3%\n"
     ]
    }
   ],
   "source": [
    "# check system details\n",
    "import os\n",
    "import psutil\n",
    "import cpuinfo\n",
    "\n",
    "ram_info = psutil.virtual_memory()\n",
    "print(f\"Total RAM: {ram_info.total / 1024 / 1024 / 1024:.2f} GB\")\n",
    "print(f\"Available RAM: {ram_info.available / 1024 / 1024 / 1024:.2f} GB\")\n",
    "print(f\"Used RAM: {ram_info.used / 1024 / 1024 / 1024:.2f} GB\")\n",
    "print(f\"Percentage Usage Of RAM: {ram_info.percent}%\")\n",
    "print(f\"CPU Cores: {os.cpu_count()}\")\n",
    "print(f\"CPU Speed: {cpuinfo.get_cpu_info()['hz_actual_friendly']}\")\n",
    "disk_info = psutil.disk_usage(os.getcwd())\n",
    "print(f\"Total Disk: {disk_info.total / 1024 / 1024 / 1024:.2f} GB\")\n",
    "print(f\"Available Disk: {disk_info.free / 1024 / 1024 / 1024:.2f} GB\")\n",
    "print(f\"Used Disk: {disk_info.used / 1024 / 1024 / 1024:.2f} GB\")\n",
    "print(f\"Percentage Usage Of Disk: {disk_info.percent}%\")"
   ]
  },
  {
   "cell_type": "code",
   "execution_count": 3,
   "id": "3aa0ef51-d46b-4ccf-9caa-741ad90c77c1",
   "metadata": {
    "tags": []
   },
   "outputs": [
    {
     "name": "stderr",
     "output_type": "stream",
     "text": [
      "[nltk_data] Downloading package vader_lexicon to /home/studio-lab-\n",
      "[nltk_data]     user/nltk_data...\n",
      "[nltk_data]   Package vader_lexicon is already up-to-date!\n",
      "2023-10-28 19:11:25.226294: I tensorflow/core/platform/cpu_feature_guard.cc:182] This TensorFlow binary is optimized to use available CPU instructions in performance-critical operations.\n",
      "To enable the following instructions: SSE4.1 SSE4.2 AVX AVX2 AVX512F FMA, in other operations, rebuild TensorFlow with the appropriate compiler flags.\n"
     ]
    }
   ],
   "source": [
    "# import requirements\n",
    "import pandas as pd\n",
    "from sklearn.metrics import mean_squared_error, r2_score\n",
    "from nnet_regressor import Regression"
   ]
  },
  {
   "cell_type": "code",
   "execution_count": 4,
   "id": "32da91cf-563e-4206-97d7-6a3c7af2bcfa",
   "metadata": {
    "tags": []
   },
   "outputs": [],
   "source": [
    "# get the data\n",
    "unemployment = pd.read_csv(\"unemployment.csv\")\n",
    "unemployment = unemployment.sort_values(by=[\n",
    "    \"Date\", \n",
    "    \"Area Type \", \n",
    "    \"Area Name \", \n",
    "    \"Seasonally Adjusted (Y/N) \", \n",
    "    \"Status (Preliminary / Final) \",\n",
    "]).reset_index(drop=True)"
   ]
  },
  {
   "cell_type": "code",
   "execution_count": 5,
   "id": "2118c045-da21-4dbe-8167-3e45d5a8e059",
   "metadata": {},
   "outputs": [],
   "source": [
    "# resort the data\n",
    "unemployment = unemployment.sort_values(by=[\n",
    "    \"Area Type \", \n",
    "    \"Area Name \", \n",
    "    \"Seasonally Adjusted (Y/N) \", \n",
    "    \"Status (Preliminary / Final) \",\n",
    "    \"Date\", \n",
    "]).reset_index(drop=True)"
   ]
  },
  {
   "cell_type": "code",
   "execution_count": 6,
   "id": "02186274-9b3e-4a7e-b0b4-0bb8fb2f9be6",
   "metadata": {},
   "outputs": [],
   "source": [
    "# lag the output variable\n",
    "unemployment[\"Unemployment Rate(t-1)\"] = unemployment.groupby([\n",
    "    \"Area Type \", \n",
    "    \"Area Name \", \n",
    "    \"Seasonally Adjusted (Y/N) \", \n",
    "    \"Status (Preliminary / Final) \",\n",
    "])[\"Unemployment Rate \"].shift(1)\n",
    "\n",
    "unemployment[\"Unemployment Rate(t-2)\"] = unemployment.groupby([\n",
    "    \"Area Type \", \n",
    "    \"Area Name \", \n",
    "    \"Seasonally Adjusted (Y/N) \", \n",
    "    \"Status (Preliminary / Final) \",\n",
    "])[\"Unemployment Rate \"].shift(2)\n",
    "\n",
    "unemployment[\"Unemployment Rate(t-3)\"] = unemployment.groupby([\n",
    "    \"Area Type \", \n",
    "    \"Area Name \", \n",
    "    \"Seasonally Adjusted (Y/N) \", \n",
    "    \"Status (Preliminary / Final) \",\n",
    "])[\"Unemployment Rate \"].shift(3)\n",
    "\n",
    "unemployment[\"Unemployment Rate(t-4)\"] = unemployment.groupby([\n",
    "    \"Area Type \", \n",
    "    \"Area Name \", \n",
    "    \"Seasonally Adjusted (Y/N) \", \n",
    "    \"Status (Preliminary / Final) \",\n",
    "])[\"Unemployment Rate \"].shift(4)"
   ]
  },
  {
   "cell_type": "code",
   "execution_count": 7,
   "id": "ebcd2915-e704-4b5e-a79f-bd3d0dbd3894",
   "metadata": {},
   "outputs": [],
   "source": [
    "# remove rows with missing values\n",
    "unemployment = unemployment.dropna().reset_index(drop=True)"
   ]
  },
  {
   "cell_type": "code",
   "execution_count": 8,
   "id": "3418d33e-8d65-476f-9955-e1126eb158b2",
   "metadata": {},
   "outputs": [],
   "source": [
    "# resort the data\n",
    "unemployment = unemployment.sort_values(by=[\n",
    "    \"Date\", \n",
    "    \"Area Type \", \n",
    "    \"Area Name \", \n",
    "    \"Seasonally Adjusted (Y/N) \", \n",
    "    \"Status (Preliminary / Final) \",\n",
    "]).reset_index(drop=True)"
   ]
  },
  {
   "cell_type": "code",
   "execution_count": 9,
   "id": "998cac5d-2ee2-4d5e-8a08-59e02b76cb16",
   "metadata": {},
   "outputs": [],
   "source": [
    "# only use 50% of the data\n",
    "unemployment = unemployment.head(int(0.5 * unemployment.shape[0]))"
   ]
  },
  {
   "cell_type": "code",
   "execution_count": 10,
   "id": "45f9301a-5582-4abd-8e1b-33a9302eb898",
   "metadata": {
    "tags": []
   },
   "outputs": [],
   "source": [
    "# get the testing data\n",
    "y = unemployment[[\"Unemployment Rate \"]]\n",
    "X = unemployment.drop(columns=[\"Unemployment Rate \", \"Employment \", \"Unemployment \", \"Year \", \"Month\"])\n",
    "testX = X.tail(int(0.2 * X.shape[0])).reset_index(drop=True)\n",
    "testy = y.tail(int(0.2 * y.shape[0])).reset_index(drop=True)"
   ]
  },
  {
   "cell_type": "code",
   "execution_count": 11,
   "id": "a543694e-96f5-4e1e-ac1c-17e2694f648b",
   "metadata": {
    "tags": []
   },
   "outputs": [
    {
     "name": "stdout",
     "output_type": "stream",
     "text": [
      "\n",
      "---- Unemployment Regression Analysis ----\n",
      "\n",
      "Visualizing The Data:\n",
      "> Plotting Correlations\n",
      "> Labor Force vs. Employment \n",
      "> Labor Force vs. Unemployment \n",
      "> Employment  vs. Unemployment \n",
      "> Unemployment Rate  vs. Unemployment Rate(t-1)\n",
      "> Unemployment Rate(t-1) vs. Unemployment Rate(t-2)\n",
      "> Unemployment Rate(t-2) vs. Unemployment Rate(t-3)\n",
      "> Unemployment Rate(t-3) vs. Unemployment Rate(t-4)\n",
      "> Plotting Labor Force\n",
      "> Plotting Employment \n",
      "> Plotting Unemployment \n",
      "> Plotting Unemployment Rate \n",
      "> Plotting Unemployment Rate(t-1)\n",
      "> Plotting Unemployment Rate(t-2)\n",
      "> Plotting Unemployment Rate(t-3)\n",
      "> Plotting Unemployment Rate(t-4)\n",
      "> Plotting Area Type \n",
      "> Plotting Seasonally Adjusted (Y/N) \n",
      "> Area Type  vs. Month\n",
      "> Area Type  vs. Seasonally Adjusted (Y/N) \n",
      "> Area Type  vs. Status (Preliminary / Final) \n",
      "> Month vs. Seasonally Adjusted (Y/N) \n",
      "> Seasonally Adjusted (Y/N)  vs. Status (Preliminary / Final) \n",
      "> Labor Force vs. Area Type \n",
      "> Labor Force vs. Area Name \n",
      "> Labor Force vs. Month\n",
      "> Labor Force vs. Seasonally Adjusted (Y/N) \n",
      "> Labor Force vs. Year \n",
      "> Employment  vs. Area Type \n",
      "> Employment  vs. Area Name \n",
      "> Employment  vs. Month\n",
      "> Employment  vs. Seasonally Adjusted (Y/N) \n",
      "> Employment  vs. Year \n",
      "> Unemployment  vs. Area Type \n",
      "> Unemployment  vs. Area Name \n",
      "> Unemployment  vs. Month\n",
      "> Unemployment  vs. Seasonally Adjusted (Y/N) \n",
      "> Unemployment  vs. Year \n",
      "> Unemployment Rate  vs. Area Type \n",
      "> Unemployment Rate  vs. Area Name \n",
      "> Unemployment Rate  vs. Month\n",
      "> Unemployment Rate  vs. Year \n",
      "> Unemployment Rate(t-1) vs. Area Type \n",
      "> Unemployment Rate(t-1) vs. Area Name \n",
      "> Unemployment Rate(t-1) vs. Year \n",
      "> Unemployment Rate(t-2) vs. Area Type \n",
      "> Unemployment Rate(t-2) vs. Area Name \n",
      "> Unemployment Rate(t-2) vs. Year \n",
      "> Unemployment Rate(t-3) vs. Area Type \n",
      "> Unemployment Rate(t-3) vs. Area Name \n",
      "> Unemployment Rate(t-3) vs. Month\n",
      "> Unemployment Rate(t-3) vs. Year \n",
      "> Unemployment Rate(t-4) vs. Area Type \n",
      "> Unemployment Rate(t-4) vs. Area Name \n",
      "> Unemployment Rate(t-4) vs. Month\n",
      "> Unemployment Rate(t-4) vs. Year \n",
      "1.85 Minutes\n",
      "Model Training:\n",
      "> Transforming The Training Data\n",
      "> Renaming Features\n",
      "> Extracting Time Features\n",
      "> Transforming Categorical Features\n",
      "> Renaming Features\n",
      "> Removing Constant Features\n",
      "> Scaling Features\n",
      "> Training Neural Network\n"
     ]
    },
    {
     "name": "stderr",
     "output_type": "stream",
     "text": [
      "2023-10-28 19:14:40.836717: W tensorflow/tsl/framework/cpu_allocator_impl.cc:83] Allocation of 713941856 exceeds 10% of free system memory.\n",
      "\n",
      "KeyboardInterrupt\n",
      "\n"
     ]
    }
   ],
   "source": [
    "# build the model\n",
    "print(\"\\n---- Unemployment Regression Analysis ----\\n\")\n",
    "model = Regression(\n",
    "    name=\"Tensorflow Without Feature Engineering\", \n",
    "    path=None,\n",
    "    rename=True, \n",
    "    deep=True,\n",
    "    time=True, \n",
    "    text=False,\n",
    "    binary=True, \n",
    "    imputation=False, \n",
    "    variance=True,\n",
    "    scale=True,\n",
    "    atwood=False,\n",
    "    binning=False,\n",
    "    reciprocal=False, \n",
    "    interaction=False, \n",
    "    selection=False,\n",
    "    tune=False,\n",
    "    plots=True,\n",
    ")\n",
    "try:\n",
    "    model.load()  # load the machine learning pipeline\n",
    "    predictions = model.predict(testX)\n",
    "except:\n",
    "    model.explore(unemployment)\n",
    "    model.validate(X, y)  # build the machine learning pipeline\n",
    "    predictions = model.predict(testX)\n",
    "    print(\"\\nModel Performance:\")\n",
    "    print(f\"R2: {model.r2}\")\n",
    "    print(f\"RMSE: {model.rmse}\")\n",
    "    print(f\"In Control: {model.in_control}\")"
   ]
  },
  {
   "cell_type": "code",
   "execution_count": null,
   "id": "a057156c-323e-498d-937c-d8d3523397ee",
   "metadata": {},
   "outputs": [],
   "source": [
    "# model diagnostics\n",
    "print(\"Model Indicators:\")\n",
    "for i, indicator in enumerate(model.indicators[\"Indicator\"][:10].tolist()):\n",
    "    print(f\"{i+1}. {indicator}\")\n",
    "print(\" \")\n",
    "print(\"Feature Drift:\")\n",
    "for i, feature in enumerate(model.drift.loc[model.drift[\"pvalue\"] < 0.05, \"Feature\"][:10].tolist()):\n",
    "    print(f\"{i+1}. {feature}\")\n",
    "if model.drift.loc[model.drift[\"pvalue\"] < 0.05].shape[0] == 0:\n",
    "    print(\"None\")"
   ]
  },
  {
   "cell_type": "code",
   "execution_count": null,
   "id": "30b9ca50-06d6-49b7-848b-c0852e302909",
   "metadata": {
    "tags": []
   },
   "outputs": [],
   "source": [
    "# score the model\n",
    "rmse = mean_squared_error(\n",
    "    y_true=testy.iloc[:,0].to_numpy(),\n",
    "    y_pred=predictions,\n",
    "    squared=False,\n",
    ")\n",
    "r2 = r2_score(\n",
    "    y_true=testy.iloc[:,0].to_numpy(),\n",
    "    y_pred=predictions,\n",
    ")\n",
    "\n",
    "print(f\"RMSE: {rmse}\")\n",
    "print(f\"R2: {r2}\")"
   ]
  },
  {
   "cell_type": "code",
   "execution_count": null,
   "id": "2226e286-b762-4265-a3de-de9a5561d5ec",
   "metadata": {
    "tags": []
   },
   "outputs": [],
   "source": [
    "# save the machine learning pipeline\n",
    "model.dump()"
   ]
  },
  {
   "cell_type": "code",
   "execution_count": null,
   "id": "77cf2f6c-400c-4dbb-bf49-53bdd6fad4de",
   "metadata": {
    "tags": []
   },
   "outputs": [],
   "source": [
    "# refit the model to include the test data\n",
    "model.refit(testX, testy)"
   ]
  }
 ],
 "metadata": {
  "kernelspec": {
   "display_name": "sagemaker-distribution:Python",
   "language": "python",
   "name": "conda-env-sagemaker-distribution-py"
  },
  "language_info": {
   "codemirror_mode": {
    "name": "ipython",
    "version": 3
   },
   "file_extension": ".py",
   "mimetype": "text/x-python",
   "name": "python",
   "nbconvert_exporter": "python",
   "pygments_lexer": "ipython3",
   "version": "3.8.17"
  }
 },
 "nbformat": 4,
 "nbformat_minor": 5
}
