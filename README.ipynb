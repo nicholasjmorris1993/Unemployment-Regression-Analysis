{
 "cells": [
  {
   "cell_type": "code",
   "execution_count": 1,
   "id": "abb00f0e-b45a-475a-ab3f-1647e3f87002",
   "metadata": {},
   "outputs": [
    {
     "name": "stdout",
     "output_type": "stream",
     "text": [
      "Requirement already satisfied: plotly in /opt/conda/envs/sagemaker-distribution/lib/python3.8/site-packages (5.17.0)\n",
      "Requirement already satisfied: tenacity>=6.2.0 in /opt/conda/envs/sagemaker-distribution/lib/python3.8/site-packages (from plotly) (8.2.3)\n",
      "Requirement already satisfied: packaging in /opt/conda/envs/sagemaker-distribution/lib/python3.8/site-packages (from plotly) (23.1)\n",
      "Note: you may need to restart the kernel to use updated packages.\n",
      "Requirement already satisfied: py-cpuinfo in /opt/conda/envs/sagemaker-distribution/lib/python3.8/site-packages (9.0.0)\n",
      "Note: you may need to restart the kernel to use updated packages.\n"
     ]
    }
   ],
   "source": [
    "# install missing packages\n",
    "%pip install plotly\n",
    "%pip install py-cpuinfo"
   ]
  },
  {
   "cell_type": "code",
   "execution_count": 2,
   "id": "28211ea4-4ff7-48eb-a395-53442492a061",
   "metadata": {
    "tags": []
   },
   "outputs": [
    {
     "name": "stdout",
     "output_type": "stream",
     "text": [
      "Total RAM: 15.47 GB\n",
      "Available RAM: 12.25 GB\n",
      "Used RAM: 2.91 GB\n",
      "Percentage Usage Of RAM: 20.8%\n",
      "CPU Cores: 4\n",
      "CPU Speed: 2.5000 GHz\n"
     ]
    }
   ],
   "source": [
    "# check system details\n",
    "import os\n",
    "import psutil\n",
    "import cpuinfo\n",
    "\n",
    "try:\n",
    "    ram_info = psutil.virtual_memory()\n",
    "    print(f\"Total RAM: {ram_info.total / 1024 / 1024 / 1024:.2f} GB\")\n",
    "    print(f\"Available RAM: {ram_info.available / 1024 / 1024 / 1024:.2f} GB\")\n",
    "    print(f\"Used RAM: {ram_info.used / 1024 / 1024 / 1024:.2f} GB\")\n",
    "    print(f\"Percentage Usage Of RAM: {ram_info.percent}%\")\n",
    "    print(f\"CPU Cores: {os.cpu_count()}\")\n",
    "    print(f\"CPU Speed: {cpuinfo.get_cpu_info()['hz_actual_friendly']}\")\n",
    "except:\n",
    "    print(\"RAM and CPU info not available on this system\")"
   ]
  },
  {
   "cell_type": "code",
   "execution_count": 3,
   "id": "3aa0ef51-d46b-4ccf-9caa-741ad90c77c1",
   "metadata": {
    "tags": []
   },
   "outputs": [],
   "source": [
    "# import requirements\n",
    "import pandas as pd\n",
    "from sklearn.metrics import mean_squared_error, r2_score\n",
    "from regression import Regression"
   ]
  },
  {
   "cell_type": "code",
   "execution_count": 4,
   "id": "32da91cf-563e-4206-97d7-6a3c7af2bcfa",
   "metadata": {
    "tags": []
   },
   "outputs": [],
   "source": [
    "# get the data\n",
    "unemployment = pd.read_csv(\"unemployment.csv\")\n",
    "unemployment = unemployment.sort_values(by=[\n",
    "    \"Date\", \n",
    "    \"Area Type \", \n",
    "    \"Area Name \", \n",
    "    \"Seasonally Adjusted (Y/N) \", \n",
    "    \"Status (Preliminary / Final) \",\n",
    "]).reset_index(drop=True)\n",
    "unemployment = unemployment.head(int(0.5 * unemployment.shape[0]))  # only use 50% of the data"
   ]
  },
  {
   "cell_type": "code",
   "execution_count": 5,
   "id": "45f9301a-5582-4abd-8e1b-33a9302eb898",
   "metadata": {
    "tags": []
   },
   "outputs": [],
   "source": [
    "# split up the data into training and testing\n",
    "y = unemployment[[\"Unemployment Rate \"]]\n",
    "X = unemployment.drop(columns=[\"Unemployment Rate \", \"Employment \", \"Unemployment \", \"Year \", \"Month\"])\n",
    "trainX = X.head(int(0.8 * X.shape[0]))\n",
    "trainy = y.head(int(0.8 * y.shape[0]))\n",
    "testX = X.tail(int(0.2 * X.shape[0])).reset_index(drop=True)\n",
    "testy = y.tail(int(0.2 * y.shape[0])).reset_index(drop=True)"
   ]
  },
  {
   "cell_type": "code",
   "execution_count": 6,
   "id": "a543694e-96f5-4e1e-ac1c-17e2694f648b",
   "metadata": {
    "tags": []
   },
   "outputs": [
    {
     "name": "stdout",
     "output_type": "stream",
     "text": [
      "\n",
      "---- Unemployment Regression Analysis ----\n",
      "\n",
      "1/6) Model Training\n",
      "> Renaming Features\n",
      "> Extracting Time Features\n",
      "> Transforming Categorical Features\n",
      "> Renaming Features\n",
      "> Filling In Missing Values\n",
      "> Removing Constant Features\n",
      "> Scaling Features\n",
      "> Selecting Features\n",
      "> Computing Atwoood Numbers\n",
      "> Binning Features\n",
      "> Computing Reciprocals\n",
      "> Computing Interactions\n",
      "> Removing Constant Features\n",
      "> Selecting Features\n",
      "> Transforming The Training Data\n",
      "> Training XGBoost\n",
      "2.93 Minutes\n",
      "2/6) Model Performance\n",
      "> Transforming The Testing Data\n",
      "10.03 Seconds\n",
      "3/6) Model Deployment\n",
      "> Transforming All The Data\n",
      "> Training XGBoost\n",
      "52.1 Seconds\n",
      "4/6) Model Indicators\n",
      "0.15 Seconds\n",
      "5/6) Model Prediction\n",
      "> Transforming The New Data\n",
      "4.28 Seconds\n",
      "6/6) Model Monitoring\n",
      "6.47 Seconds\n"
     ]
    }
   ],
   "source": [
    "# build the model\n",
    "print(\"\\n---- Unemployment Regression Analysis ----\\n\")\n",
    "model = Regression(name=\"Unemployment Regression Analysis\", frac=0.8)  # only use 80% of the data for preprocessing\n",
    "try:\n",
    "    model.load()  # load the machine learning pipeline\n",
    "    predictions = model.predict(testX)\n",
    "except:\n",
    "    model.fit(trainX, trainy)  # build the machine learning pipeline\n",
    "    predictions = model.predict(testX)"
   ]
  },
  {
   "cell_type": "code",
   "execution_count": 7,
   "id": "6d00007b-4f8b-40f4-b538-1396956f8b4e",
   "metadata": {},
   "outputs": [
    {
     "name": "stdout",
     "output_type": "stream",
     "text": [
      "Model Diagnostics:\n",
      "> RMSE: 0.06141041107044169\n",
      "> R2: 0.2429078996483898\n",
      "> In Control: 96.69%\n",
      "> Model Indicators:\n",
      "1. Area_Name__Prattville_CDP\n",
      "2. Date_01/01/2011\n",
      "3. Date_02/01/2011*1/Labor_Force\n",
      "4. Area_Name__Pajaro_CDP\n",
      "5. Area_Name__Shoshone_CDP\n",
      "6. Area_Name__Canyondam_CDP\n",
      "7. Area_Name__Prattville_CDP*Labor_Force\n",
      "8. Area_Name__Canyondam_CDP*Labor_Force\n",
      "9. Area_Name__El_Centro,_CA_MSA\n",
      "10. Area_Name__Chilcoot_Vinton_CDP*Labor_Force\n",
      "> Feature Drift:\n",
      "1. Area_Type__Sub-County_Place*Date_01/01/2016\n",
      "2. Area_Type__Sub-County_Place*Date_03/01/2016\n",
      "3. Area_Type__Sub-County_Place*Date_01/01/2013\n",
      "4. Date_03/01/2012*Area_Type__Sub-County_Place\n",
      "5. Area_Type__Sub-County_Place*Date_01/01/2022\n",
      "6. Area_Type__Sub-County_Place*Date_01/01/2023\n",
      "7. Area_Type__Sub-County_Place*Date_01/01/2019\n",
      "8. Area_Type__Sub-County_Place*Date_03/01/2022\n",
      "9. Area_Type__Sub-County_Place*Date_03/01/2021\n",
      "10. Area_Type__Sub-County_Place*Date_01/01/2010\n"
     ]
    }
   ],
   "source": [
    "# model diagnostics\n",
    "print(\"Model Diagnostics:\")\n",
    "print(f\"> RMSE: {model.rmse}\")\n",
    "print(f\"> R2: {model.r2}\")\n",
    "print(f\"> In Control: {model.in_control}\")\n",
    "print(\"> Model Indicators:\")\n",
    "for i, indicator in enumerate(model.indicators[\"Indicator\"][:10]):\n",
    "    print(f\"{i+1}. {indicator}\")\n",
    "print(\"> Feature Drift:\")\n",
    "for i, feature in enumerate(model.drift.loc[model.drift[\"pvalue\"] < 0.05, \"Feature\"][:10]):\n",
    "    print(f\"{i+1}. {feature}\")\n",
    "if model.drift.loc[model.drift[\"pvalue\"] < 0.05].shape[0] == 0:\n",
    "    print(\"None\")"
   ]
  },
  {
   "cell_type": "code",
   "execution_count": 8,
   "id": "30b9ca50-06d6-49b7-848b-c0852e302909",
   "metadata": {
    "tags": []
   },
   "outputs": [
    {
     "name": "stdout",
     "output_type": "stream",
     "text": [
      "RMSE: 0.06082342631705329\n",
      "R2: 0.23461296802128107\n"
     ]
    }
   ],
   "source": [
    "# score the model\n",
    "rmse = mean_squared_error(\n",
    "    y_true=testy.iloc[:,0].to_numpy(),\n",
    "    y_pred=predictions,\n",
    "    squared=False,\n",
    ")\n",
    "r2 = r2_score(\n",
    "    y_true=testy.iloc[:,0].to_numpy(),\n",
    "    y_pred=predictions,\n",
    ")\n",
    "\n",
    "print(f\"RMSE: {rmse}\")\n",
    "print(f\"R2: {r2}\")"
   ]
  },
  {
   "cell_type": "code",
   "execution_count": 9,
   "id": "2226e286-b762-4265-a3de-de9a5561d5ec",
   "metadata": {
    "tags": []
   },
   "outputs": [],
   "source": [
    "# save the machine learning pipeline\n",
    "model.dump()"
   ]
  },
  {
   "cell_type": "code",
   "execution_count": 10,
   "id": "517e6acd-46ec-440f-ab13-e9096a3e597d",
   "metadata": {
    "tags": []
   },
   "outputs": [
    {
     "name": "stdout",
     "output_type": "stream",
     "text": [
      "Model Retraining:\n",
      "> Transforming The New Data\n",
      "> Training XGBoost\n",
      "43.22 Seconds\n"
     ]
    }
   ],
   "source": [
    "# refit the model to include the test data\n",
    "model.refit(testX, testy)"
   ]
  }
 ],
 "metadata": {
  "kernelspec": {
   "display_name": "sagemaker-distribution:Python",
   "language": "python",
   "name": "conda-env-sagemaker-distribution-py"
  },
  "language_info": {
   "codemirror_mode": {
    "name": "ipython",
    "version": 3
   },
   "file_extension": ".py",
   "mimetype": "text/x-python",
   "name": "python",
   "nbconvert_exporter": "python",
   "pygments_lexer": "ipython3",
   "version": "3.8.17"
  }
 },
 "nbformat": 4,
 "nbformat_minor": 5
}
